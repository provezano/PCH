{
 "cells": [
  {
   "cell_type": "markdown",
   "metadata": {},
   "source": [
    "An example of PCH on an instance of $m_{1}= m_{2} = 2$; $j_{1} = 10$ and $j_{2} = 8$."
   ]
  },
  {
   "cell_type": "code",
   "execution_count": 9,
   "metadata": {},
   "outputs": [],
   "source": [
    "n1 = 10 #Number of jobs in first stage\n",
    "n2 = 8  #Number of jobs in second stage\n",
    "m1 = 2  #Number of machines in first stage\n",
    "m2 = 2  #Number of machines in second stage\n",
    "\n",
    "j1 = list(range(n1)) # First stage jobs\n",
    "j2 = list(range(n2)) # Second stage jobs\n",
    "p1 = [58,27,16,81,69,68,62,13,42,96] # Processing times of first stage jobs\n",
    "p2 = [61,46,81,48,23,23,15,75] # Processing times of second stage jobs\n",
    "\n",
    "#Matrix of precedents (rows) and sucessors (lines). eg. Sucessors of j1[0] are 1,2,4,5,6,7 and 8.\n",
    "prec = [\n",
    "[1,1,1,1,1,0,1,1,0,1],\n",
    "[1,0,1,0,0,1,0,1,1,1],\n",
    "[0,1,1,0,1,0,1,1,0,0],\n",
    "[1,1,1,1,1,1,0,1,1,1],\n",
    "[1,1,0,1,0,1,0,0,0,1],\n",
    "[1,0,0,1,1,0,1,0,0,1],\n",
    "[1,0,0,1,0,1,1,0,0,1],\n",
    "[1,1,1,1,0,1,0,0,1,1]]"
   ]
  },
  {
   "cell_type": "markdown",
   "metadata": {},
   "source": [
    "Step 1: Delta computation"
   ]
  },
  {
   "cell_type": "code",
   "execution_count": 10,
   "metadata": {},
   "outputs": [
    {
     "name": "stdout",
     "output_type": "stream",
     "text": [
      "Deltaj = [145.5, 144.0, 155.5, 122.5, 106.5, 103.5, 90.0, 118.0, 84.5, 145.5]\n"
     ]
    }
   ],
   "source": [
    "delta = [0] * n1\n",
    "for j in range(n1):\n",
    "\tdelta_aux = 0\n",
    "\tfor i in range(n2):\n",
    "\t\tif prec[i][j] == 1:\n",
    "\t\t\tdelta[j] += p2[i]\n",
    "\t\t\tif p2[i] > delta_aux:\n",
    "\t\t\t\tdelta_aux = p2[i]\n",
    "\tdelta[j] = max(delta_aux, delta[j]/m2)\n",
    "print(\"Deltaj =\", delta)"
   ]
  },
  {
   "cell_type": "markdown",
   "metadata": {},
   "source": [
    "Step 2: Sort and compute cut limit for preemption"
   ]
  },
  {
   "cell_type": "code",
   "execution_count": 11,
   "metadata": {},
   "outputs": [
    {
     "data": {
      "text/plain": [
       "377"
      ]
     },
     "execution_count": 11,
     "metadata": {},
     "output_type": "execute_result"
    }
   ],
   "source": [
    "import math\n",
    "\n",
    "sum_p = 0\n",
    "cm = 0\n",
    "max_1 = 0\n",
    "max_2 = 0\n",
    "\n",
    "#Sort according to LPT rule\n",
    "j1 = [x for _,x in sorted(zip(p1, j1), reverse=True)]\n",
    "#Sort according to shortest delta first\n",
    "j1 = [x for _,x in sorted(zip(delta, j1))]\n",
    "#j1 is sorted in shortest delta first and using LPT to break ties.\n",
    "\n",
    "for j in j1:\n",
    "\tsum_p += p1[j]\n",
    "\tcm = max(sum_p/m1+delta[j], cm)\n",
    "\tif cm > max_1:\n",
    "\t\tmax_1 = cm\n",
    "\tif p1[j] + delta[j] > max_2:\n",
    "\t\tmax_2 = p1[j] + delta[j]\n",
    "\n",
    "cut_limit = math.ceil(max(max_1, max_2))\n",
    "cut_limit"
   ]
  },
  {
   "cell_type": "markdown",
   "metadata": {},
   "source": [
    "Step 3: Sequence the first stage"
   ]
  },
  {
   "cell_type": "code",
   "execution_count": 12,
   "metadata": {},
   "outputs": [
    {
     "name": "stdout",
     "output_type": "stream",
     "text": [
      "First stage:\n",
      "[106.5, 2, 0, 1, 5, 7, 9, 4, -1, -1, -1]\n",
      "[115.5, 8, 6, 3, 9, 4, -1, -1, -1, -1, -1]\n"
     ]
    }
   ],
   "source": [
    "import operator\n",
    "\n",
    "machines = [[-1 for x in range(n1+1)] for y in range(m1)]\n",
    "for i in range(m1): machines[i][0] = cut_limit\n",
    "\n",
    "machines_p1 = [[-1 for x in range(n1+1)] for y in range(m1)]\n",
    "for i in range(m1): machines_p1[i][0] = 0\n",
    "    \n",
    "for i in j1:\n",
    "    p1_i = p1[i]\n",
    "    delta_i = delta[i]\n",
    "    cm = 0\n",
    "    \n",
    "    while True:\n",
    "        idx_m, value = max(enumerate([machines[j][0] for j in range(m1)]), key=operator.itemgetter(1))\n",
    "        idx_p = 1\n",
    "        while machines[idx_m][idx_p] != -1:\n",
    "            idx_p += 1\n",
    "            \n",
    "        machines[idx_m][idx_p] = i\n",
    "        cm = machines_p1[idx_m][0] + p1_i + delta_i\n",
    "        if cm <= cut_limit:\n",
    "            machines_p1[idx_m][0] += p1_i;\n",
    "            machines_p1[idx_m][idx_p] = p1_i;\n",
    "            machines[idx_m][0] -= p1_i;\n",
    "            p1_i = 0;\n",
    "        else:\n",
    "            machines_p1[idx_m][idx_p] = p1_i - (cm - cut_limit);\n",
    "            machines_p1[idx_m][0] += machines_p1[idx_m][idx_p];\n",
    "            machines[idx_m][0] -= machines_p1[idx_m][idx_p];\n",
    "            p1_i = (cm - cut_limit);\n",
    "        if p1_i <= 0: break\n",
    "print(\"First stage:\")\n",
    "for m in machines:\n",
    "    print(m)"
   ]
  },
  {
   "cell_type": "markdown",
   "metadata": {},
   "source": [
    "Step 4: Define preemptions"
   ]
  },
  {
   "cell_type": "code",
   "execution_count": null,
   "metadata": {},
   "outputs": [],
   "source": []
  },
  {
   "cell_type": "markdown",
   "metadata": {},
   "source": []
  }
 ],
 "metadata": {
  "kernelspec": {
   "display_name": "Python 3",
   "language": "python",
   "name": "python3"
  },
  "language_info": {
   "codemirror_mode": {
    "name": "ipython",
    "version": 3
   },
   "file_extension": ".py",
   "mimetype": "text/x-python",
   "name": "python",
   "nbconvert_exporter": "python",
   "pygments_lexer": "ipython3",
   "version": "3.6.5"
  }
 },
 "nbformat": 4,
 "nbformat_minor": 2
}
